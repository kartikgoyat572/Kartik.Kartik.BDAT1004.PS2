{
 "cells": [
  {
   "cell_type": "markdown",
   "id": "86699903",
   "metadata": {},
   "source": [
    "# Question 1\n",
    "Consider the following Python module:\n",
    "a = 0\n",
    "\n",
    "def b():\n",
    "    global a\n",
    "    a = c(a)\n",
    "def c(a):\n",
    "    return a + 2\n",
    " \n",
    "After importing the module into the interpreter, you execute:\n",
    " \n",
    " b()\n",
    " b()\n",
    " b()\n",
    " a\n",
    "\n",
    "#### What value is displayed when the last expression (a) is evaluated? Explain your answer by indicating what happens in every executed statement"
   ]
  },
  {
   "cell_type": "code",
   "execution_count": 1,
   "id": "f35b17bc",
   "metadata": {},
   "outputs": [
    {
     "data": {
      "text/plain": [
       "6"
      ]
     },
     "execution_count": 1,
     "metadata": {},
     "output_type": "execute_result"
    }
   ],
   "source": [
    "a = 0\n",
    "def b():\n",
    " global a\n",
    " a = c(a)\n",
    "def c(a):\n",
    " return a + 2\n",
    "\n",
    "b() #1\n",
    "b() #2\n",
    "b() #3\n",
    "a   #4"
   ]
  },
  {
   "cell_type": "markdown",
   "id": "8b72447f",
   "metadata": {},
   "source": [
    "### Explanation\n",
    "Step 1: When first b() is call a is declared global variable which means a = 0 is accessible by all the functions in the program . Next assigning a = c(a) will call the function c(a) and stores the value a + 2 in a. thus the value of a now becomes 2, i.e a = 2.\n",
    "\n",
    "Step 2: again when b() is called varaible a with value = 2 is declared as global. Next c(a) will be called and will store a+2 inside a. This will update the value of a as 4, i.e a = 4.\n",
    "\n",
    "Step 3: same happens again, this time value of a becomes a = a+2 = 4+2 = 6.\n",
    "\n",
    "Step 4: a is called which will print the value asscoited with it,i.e 6.\n",
    "\n",
    "Hence, 6 will be printed."
   ]
  },
  {
   "cell_type": "markdown",
   "id": "8b08d206",
   "metadata": {},
   "source": [
    "# Question 2\n",
    "Function fileLength(), given to you, takes the name of a file as input and returns \n",
    "the length of the file:\n",
    "> fileLength('midterm.py')\n",
    "284\n",
    "> fileLength('idterm.py')\n",
    "Traceback (most recent call last):\n",
    "File \"<pyshell#34>\", line 1, in <module>\n",
    "\n",
    "> fileLength('idterm.py')\n",
    "File \"/Users/me/midterm.py\", line 3, in fileLength infile = open(filename)\n",
    "    \n",
    "FileNotFoundError: [Errno 2] No such file or directory: 'idterm.py'\n",
    "    \n",
    "    \n",
    "As shown above, if the file cannot be found by the interpreter or if it cannot be read \n",
    "as a text file, an exception will be raised. Modify function fileLength() so that a \n",
    "friendly message is printed instead:\n",
    "> fileLength('midterm.py')\n",
    "358\n",
    "    \n",
    "> fileLength('idterm.py')\n",
    "File idterm.py not found.\n"
   ]
  },
  {
   "cell_type": "code",
   "execution_count": 2,
   "id": "f667f8e1",
   "metadata": {},
   "outputs": [],
   "source": [
    "def fileLength(file_name):\n",
    "    try:                                           \n",
    "        open_file=open(file_name)\n",
    "        data=open_file.read()\n",
    "        length=len(data)\n",
    "        open_file.close()\n",
    "        return length\n",
    "    except IOError:                                  \n",
    "        print(f'File {file_name} not found.') "
   ]
  },
  {
   "cell_type": "code",
   "execution_count": 4,
   "id": "283d9b16",
   "metadata": {},
   "outputs": [
    {
     "data": {
      "text/plain": [
       "123"
      ]
     },
     "execution_count": 4,
     "metadata": {},
     "output_type": "execute_result"
    }
   ],
   "source": [
    "fileLength(\"Filelength.txt\")"
   ]
  },
  {
   "cell_type": "code",
   "execution_count": 5,
   "id": "e16dee24",
   "metadata": {},
   "outputs": [
    {
     "name": "stdout",
     "output_type": "stream",
     "text": [
      "File kartik.txt not found.\n"
     ]
    }
   ],
   "source": [
    "fileLength(\"kartik.txt\")"
   ]
  },
  {
   "cell_type": "markdown",
   "id": "1b1390dc",
   "metadata": {},
   "source": [
    "# Question 3\n",
    "Write a class named Marsupial that can be used as shown below:\n",
    "\n",
    "m = Marsupial()\n",
    "\n",
    "m.put_in_pouch('doll')\n",
    "\n",
    "m.put_in_pouch('firetruck')\n",
    "\n",
    "m.put_in_pouch('kitten')\n",
    "\n",
    "m.pouch_contents()\n",
    "\n",
    "['doll', 'firetruck', 'kitten']"
   ]
  },
  {
   "cell_type": "code",
   "execution_count": 6,
   "id": "9b1740ba",
   "metadata": {},
   "outputs": [],
   "source": [
    "class Marsupial:\n",
    "    \n",
    "    def __init__(self):\n",
    "        self.list_items = []\n",
    "    \n",
    "    def put_in_pouch(self,item):\n",
    "        self.list_items.append(item)\n",
    "        \n",
    "    def pouch_contents(self):\n",
    "        return self.list_items"
   ]
  },
  {
   "cell_type": "code",
   "execution_count": 7,
   "id": "1b535b85",
   "metadata": {},
   "outputs": [
    {
     "data": {
      "text/plain": [
       "['doll', 'firetruck', 'kitten']"
      ]
     },
     "execution_count": 7,
     "metadata": {},
     "output_type": "execute_result"
    }
   ],
   "source": [
    "m = Marsupial()\n",
    "m.put_in_pouch('doll')\n",
    "m.put_in_pouch('firetruck')\n",
    "m.put_in_pouch('kitten')\n",
    "m.pouch_contents()"
   ]
  },
  {
   "cell_type": "markdown",
   "id": "6b232ccc",
   "metadata": {},
   "source": [
    "### 3b\n",
    "Now write a class named Kangaroo as a subclass of Marsupial that inherits all the attributes of Marsupial and also:\n",
    "\n",
    "a. extends the Marsupial __init__ constructor to take, as input, the coordinates x and y of the Kangaroo object,\n",
    "\n",
    "b. supports method jump that takes number values dx and dy as input and movesthe kangaroo by dx units along the x-axis and by dy units along the yaxis, and\n",
    "\n",
    "c. overloads the __str__ operator so it behaves as shown below.\n",
    "\n",
    "k = Kangaroo(0,0)\n",
    "\n",
    "print(k)\n",
    "\n",
    "I am a Kangaroo located at coordinates (0,0)\n",
    "\n",
    "> k.put_in_pouch('doll') \n",
    "\n",
    ">k.put_in_pouch('firetruck')\n",
    "\n",
    "> k.put_in_pouch('kitten')\n",
    "\n",
    "> k.pouch_contents() \n",
    "\n",
    "['doll', 'firetruck', 'kitten']\n",
    "\n",
    "> k.jump(1,0)\n",
    "\n",
    "> k.jump(1,0)\n",
    "\n",
    "> k.jump(1,0)\n",
    "\n",
    "> print(k)\n",
    "\n",
    "I am a Kangaroo located at coordinates (3,0)"
   ]
  },
  {
   "cell_type": "code",
   "execution_count": 13,
   "id": "c4e6acfd",
   "metadata": {},
   "outputs": [],
   "source": [
    "class Kangaroo(Marsupial):\n",
    "    def __init__(self,x,y):\n",
    "        Marsupial.__init__(self)\n",
    "        self.x = x\n",
    "        self.y = y\n",
    "        \n",
    "    def jump(self,dx,dy):\n",
    "        self.x += dx\n",
    "        self.y += dy\n",
    "        \n",
    "    def __str__(self):\n",
    "        return f'I am a Kangaroo located at coordinates ({self.x}, {self.y})'\n"
   ]
  },
  {
   "cell_type": "code",
   "execution_count": 14,
   "id": "0d8fbfe9",
   "metadata": {},
   "outputs": [
    {
     "name": "stdout",
     "output_type": "stream",
     "text": [
      "I am a Kangaroo located at coordinates (0, 0)\n",
      "['doll', 'firetruck', 'kitten']\n",
      "I am a Kangaroo located at coordinates (3, 0)\n"
     ]
    }
   ],
   "source": [
    "k = Kangaroo(0,0)\n",
    "print(k)\n",
    "\n",
    "k.put_in_pouch('doll')\n",
    "k.put_in_pouch('firetruck')\n",
    "k.put_in_pouch('kitten')\n",
    "print(k.pouch_contents())\n",
    "\n",
    "k.jump(1,0)\n",
    "k.jump(1,0)\n",
    "k.jump(1,0)\n",
    "print(k)"
   ]
  },
  {
   "cell_type": "markdown",
   "id": "940250ed",
   "metadata": {},
   "source": [
    "# Question 4\n",
    "Write function collatz() that takes a positive integer x as input and prints the Collatz sequence starting at x. A Collatz sequence is obtained by repeatedly applying this rule to the previous number x in the sequence:\n",
    "\n",
    "x = { 𝑥/2 𝑖𝑓 𝑥 𝑖𝑠 𝑒𝑣𝑒𝑛,\n",
    "\n",
    "     3𝑥 + 1 𝑖𝑓 𝑥 𝑖𝑠 𝑜𝑑𝑑 }\n",
    "     \n",
    "Your function should stop when the sequence gets to number 1. Your implementation must be recursive, without any loops\n",
    "\n",
    "> collatz(1)\n",
    "\n",
    "1\n",
    "\n",
    "> collatz(10)\n",
    "\n",
    "10\n",
    "5\n",
    "16\n",
    "8\n",
    "4\n",
    "2\n",
    "1"
   ]
  },
  {
   "cell_type": "code",
   "execution_count": 20,
   "id": "6a8489f3",
   "metadata": {},
   "outputs": [],
   "source": [
    "def collatz(x):\n",
    "    print(int(x))\n",
    "    if x==1 or x==0:\n",
    "        return \n",
    "    else:\n",
    "        if x%2==0:\n",
    "            x = x/2\n",
    "            collatz(x)\n",
    "        else:\n",
    "            x = 3*x + 1\n",
    "            collatz(x)"
   ]
  },
  {
   "cell_type": "code",
   "execution_count": 21,
   "id": "95c4c9f7",
   "metadata": {},
   "outputs": [
    {
     "name": "stdout",
     "output_type": "stream",
     "text": [
      "1\n"
     ]
    }
   ],
   "source": [
    "collatz(1)"
   ]
  },
  {
   "cell_type": "code",
   "execution_count": 22,
   "id": "fc5b53c3",
   "metadata": {},
   "outputs": [
    {
     "name": "stdout",
     "output_type": "stream",
     "text": [
      "10\n",
      "5\n",
      "16\n",
      "8\n",
      "4\n",
      "2\n",
      "1\n"
     ]
    }
   ],
   "source": [
    "collatz(10)"
   ]
  },
  {
   "cell_type": "markdown",
   "id": "be023db1",
   "metadata": {},
   "source": [
    "# Question 5\n",
    "Write a recursive method binary() that takes a non-negative integer n and prints the binary representation of integer n.\n",
    "\n",
    "> binary(0)\n",
    "\n",
    "0\n",
    "\n",
    "> binary(1)\n",
    "\n",
    "1\n",
    "\n",
    "> binary(3)\n",
    "\n",
    "11\n",
    "\n",
    "> binary(9)\n",
    "\n",
    "1001"
   ]
  },
  {
   "cell_type": "code",
   "execution_count": 27,
   "id": "d3c0042c",
   "metadata": {},
   "outputs": [],
   "source": [
    "def binary(n):\n",
    "    if n==0:\n",
    "        return 0\n",
    "    else:\n",
    "        return ((10*binary(int(n/2))) + (n%2))"
   ]
  },
  {
   "cell_type": "code",
   "execution_count": 28,
   "id": "b986fe02",
   "metadata": {},
   "outputs": [
    {
     "data": {
      "text/plain": [
       "0"
      ]
     },
     "execution_count": 28,
     "metadata": {},
     "output_type": "execute_result"
    }
   ],
   "source": [
    "binary(0)"
   ]
  },
  {
   "cell_type": "code",
   "execution_count": 29,
   "id": "96081ccb",
   "metadata": {},
   "outputs": [
    {
     "data": {
      "text/plain": [
       "1"
      ]
     },
     "execution_count": 29,
     "metadata": {},
     "output_type": "execute_result"
    }
   ],
   "source": [
    "binary(1)"
   ]
  },
  {
   "cell_type": "code",
   "execution_count": 30,
   "id": "2a739d3c",
   "metadata": {},
   "outputs": [
    {
     "data": {
      "text/plain": [
       "11"
      ]
     },
     "execution_count": 30,
     "metadata": {},
     "output_type": "execute_result"
    }
   ],
   "source": [
    "binary(3)"
   ]
  },
  {
   "cell_type": "code",
   "execution_count": 31,
   "id": "5c092c55",
   "metadata": {},
   "outputs": [
    {
     "data": {
      "text/plain": [
       "1001"
      ]
     },
     "execution_count": 31,
     "metadata": {},
     "output_type": "execute_result"
    }
   ],
   "source": [
    "binary(9)"
   ]
  },
  {
   "cell_type": "markdown",
   "id": "3b620abf",
   "metadata": {},
   "source": [
    "# Question 6\n",
    "Implement a class named HeadingParser that can be used to parse an HTML document, and retrieve and print all the headings in the document. You should implement your class as a subclass of HTMLParser, defined in Standard Library module html.parser. When fed a string containing HTML code, your class should print the headings, one per line and in the order in which they appear in the \n",
    "document. Each heading should be indented as follows: an h1 heading should have indentation 0, and h2 heading should have indentation 1, etc. Test your implementation using w3c.html.\n",
    "\n",
    "> infile = open('w3c.html')\n",
    "\n",
    "> content = infile.read()\n",
    "\n",
    "> infile.close()\n",
    "\n",
    "> hp = HeadingParser()\n",
    "\n",
    "> hp.feed(content)\n",
    "\n",
    "W3C Mission\n",
    "Principles\n"
   ]
  },
  {
   "cell_type": "code",
   "execution_count": 2,
   "id": "d51a603b",
   "metadata": {},
   "outputs": [],
   "source": [
    "from html.parser import HTMLParser\n",
    "\n",
    "class HeadingParser(HTMLParser):\n",
    "\n",
    "    headers = ['h1', 'h2', 'h3', 'h4', 'h5', 'h6'] # h1,h2--h6 are the heading types in HTML\n",
    "    current = -1\n",
    "\n",
    "    def handle_starttag(self, tag, attrs):      \n",
    "        if tag in HeadingParser.headers:         \n",
    "            HeadingParser.current = HeadingParser.headers.index(tag)\n",
    "    \n",
    "    def handle_endtag(self, tag):                \n",
    "        if tag == HeadingParser.headers[HeadingParser.current]:          \n",
    "            HeadingParser.current = -1\n",
    "            \n",
    "    def handle_data(self, data):\n",
    "        if HeadingParser.current >= 0:\n",
    "            print(\" \" * HeadingParser.current + data)"
   ]
  },
  {
   "cell_type": "code",
   "execution_count": 3,
   "id": "2c50814f",
   "metadata": {},
   "outputs": [
    {
     "name": "stdout",
     "output_type": "stream",
     "text": [
      "W3C Mission\n",
      " Principles\n"
     ]
    }
   ],
   "source": [
    "file = open(\"w3c.html\",'r') # initially the file given was in txt format, so changed file type to html format\n",
    "data = file.read()\n",
    "file.close()\n",
    "a = HeadingParser()\n",
    "a.feed(data)"
   ]
  },
  {
   "cell_type": "markdown",
   "id": "98dd04cf",
   "metadata": {},
   "source": [
    "# Question 7\n",
    "Implement recursive function webdir() that takes as input: a URL (as a string) and non-negative integers depth and indent. Your function should visit every web page reachable from the starting URL web page in depth clicks or less, and print each web page's URL. As shown below, indentation, specified by indent, should be used to indicate the depth of a URL.\n",
    "\n",
    "> webdir('http://reed.cs.depaul.edu/lperkovic/csc242/test1.html', 2, 0)\n",
    "\n",
    "http://reed.cs.depaul.edu/lperkovic/csc242/test1.html\n",
    "\n",
    "    http://reed.cs.depaul.edu/lperkovic/csc242/test2.html\n",
    "    \n",
    "        http://reed.cs.depaul.edu/lperkovic/csc242/test4.html\n",
    "        \n",
    "    http://reed.cs.depaul.edu/lperkovic/csc242/test3.html\n",
    "    \n",
    "        http://reed.cs.depaul.edu/lperkovic/csc242/test4.html\n"
   ]
  },
  {
   "cell_type": "markdown",
   "id": "f1d75037",
   "metadata": {},
   "source": [
    "# Question 8"
   ]
  },
  {
   "cell_type": "code",
   "execution_count": 1,
   "id": "de9dfc27",
   "metadata": {},
   "outputs": [],
   "source": [
    "import sqlite3\n",
    "database = sqlite3.connect('ps02.db')\n",
    "current = database.cursor()\n",
    "\n",
    "\n",
    "current.execute(\"CREATE TABLE if not exists seasons (City str ,Country str, Season str, Temperature float, Rainfall float)\")\n",
    "current.execute(\"\"\"\n",
    "    INSERT INTO seasons VALUES \n",
    "    ('Mumbai', 'India', 'Winter', 24.8, 5.9),\n",
    "    ('Mumbai', 'India', 'Spring', 28.4, 16.2),\n",
    "    ('Mumbai', 'India', 'Summer', 27.9, 1549.4),\n",
    "    ('Mumbai', 'India', 'Fall', 27.6, 346.0),\n",
    "    ('London', 'United Kingdom', 'Winter', 4.2, 207.7),\n",
    "    ('London', 'United Kingdom', 'Spring', 8.3, 169.6),\n",
    "    ('London', 'United Kingdom', 'Summer', 15.7, 157.0),\n",
    "    ('London', 'United Kingdom', 'Fall', 10.4, 218.5),\n",
    "    ('Cairo', 'Egypt', 'Winter', 13.6, 16.5),\n",
    "    ('Cairo', 'Egypt', 'Spring', 20.7, 6.5),\n",
    "    ('Cairo', 'Egypt', 'Summer', 27.7, 0.1),\n",
    "    ('Cairo', 'Egypt', 'Fall', 22.2, 4.5)\n",
    "    \"\"\")\n",
    "\n",
    "database.commit()\n",
    "\n",
    "\n",
    "database.close()"
   ]
  },
  {
   "cell_type": "code",
   "execution_count": 2,
   "id": "7d9c1df8",
   "metadata": {},
   "outputs": [],
   "source": [
    "%load_ext sql"
   ]
  },
  {
   "cell_type": "code",
   "execution_count": 3,
   "id": "121cc2a4",
   "metadata": {},
   "outputs": [],
   "source": [
    "%sql sqlite:///ps02.db"
   ]
  },
  {
   "cell_type": "markdown",
   "id": "dd5452ed",
   "metadata": {},
   "source": [
    "### Q8.a)\n",
    "All the temperature data."
   ]
  },
  {
   "cell_type": "code",
   "execution_count": 4,
   "id": "aa9f81ef",
   "metadata": {},
   "outputs": [
    {
     "name": "stdout",
     "output_type": "stream",
     "text": [
      " * sqlite:///ps02.db\n",
      "Done.\n"
     ]
    },
    {
     "data": {
      "text/html": [
       "<table>\n",
       "    <thead>\n",
       "        <tr>\n",
       "            <th>Temperature</th>\n",
       "        </tr>\n",
       "    </thead>\n",
       "    <tbody>\n",
       "        <tr>\n",
       "            <td>24.8</td>\n",
       "        </tr>\n",
       "        <tr>\n",
       "            <td>28.4</td>\n",
       "        </tr>\n",
       "        <tr>\n",
       "            <td>27.9</td>\n",
       "        </tr>\n",
       "        <tr>\n",
       "            <td>27.6</td>\n",
       "        </tr>\n",
       "        <tr>\n",
       "            <td>4.2</td>\n",
       "        </tr>\n",
       "        <tr>\n",
       "            <td>8.3</td>\n",
       "        </tr>\n",
       "        <tr>\n",
       "            <td>15.7</td>\n",
       "        </tr>\n",
       "        <tr>\n",
       "            <td>10.4</td>\n",
       "        </tr>\n",
       "        <tr>\n",
       "            <td>13.6</td>\n",
       "        </tr>\n",
       "        <tr>\n",
       "            <td>20.7</td>\n",
       "        </tr>\n",
       "        <tr>\n",
       "            <td>27.7</td>\n",
       "        </tr>\n",
       "        <tr>\n",
       "            <td>22.2</td>\n",
       "        </tr>\n",
       "    </tbody>\n",
       "</table>"
      ],
      "text/plain": [
       "[(24.8,),\n",
       " (28.4,),\n",
       " (27.9,),\n",
       " (27.6,),\n",
       " (4.2,),\n",
       " (8.3,),\n",
       " (15.7,),\n",
       " (10.4,),\n",
       " (13.6,),\n",
       " (20.7,),\n",
       " (27.7,),\n",
       " (22.2,)]"
      ]
     },
     "execution_count": 4,
     "metadata": {},
     "output_type": "execute_result"
    }
   ],
   "source": [
    "%%sql\n",
    "\n",
    "Select Temperature from seasons"
   ]
  },
  {
   "cell_type": "markdown",
   "id": "55c3360e",
   "metadata": {},
   "source": [
    "### Q8.b)\n",
    "All the cities, but without repetition."
   ]
  },
  {
   "cell_type": "code",
   "execution_count": 5,
   "id": "8207f4ae",
   "metadata": {},
   "outputs": [
    {
     "name": "stdout",
     "output_type": "stream",
     "text": [
      " * sqlite:///ps02.db\n",
      "Done.\n"
     ]
    },
    {
     "data": {
      "text/html": [
       "<table>\n",
       "    <thead>\n",
       "        <tr>\n",
       "            <th>City</th>\n",
       "        </tr>\n",
       "    </thead>\n",
       "    <tbody>\n",
       "        <tr>\n",
       "            <td>Mumbai</td>\n",
       "        </tr>\n",
       "        <tr>\n",
       "            <td>London</td>\n",
       "        </tr>\n",
       "        <tr>\n",
       "            <td>Cairo</td>\n",
       "        </tr>\n",
       "    </tbody>\n",
       "</table>"
      ],
      "text/plain": [
       "[('Mumbai',), ('London',), ('Cairo',)]"
      ]
     },
     "execution_count": 5,
     "metadata": {},
     "output_type": "execute_result"
    }
   ],
   "source": [
    "%%sql\n",
    "Select distinct City from seasons "
   ]
  },
  {
   "cell_type": "markdown",
   "id": "48a88281",
   "metadata": {},
   "source": [
    "### Q8.c)\n",
    "All the records for India."
   ]
  },
  {
   "cell_type": "code",
   "execution_count": 6,
   "id": "ba6fe150",
   "metadata": {},
   "outputs": [
    {
     "name": "stdout",
     "output_type": "stream",
     "text": [
      " * sqlite:///ps02.db\n",
      "Done.\n"
     ]
    },
    {
     "data": {
      "text/html": [
       "<table>\n",
       "    <thead>\n",
       "        <tr>\n",
       "            <th>City</th>\n",
       "            <th>Country</th>\n",
       "            <th>Season</th>\n",
       "            <th>Temperature</th>\n",
       "            <th>Rainfall</th>\n",
       "        </tr>\n",
       "    </thead>\n",
       "    <tbody>\n",
       "        <tr>\n",
       "            <td>Mumbai</td>\n",
       "            <td>India</td>\n",
       "            <td>Winter</td>\n",
       "            <td>24.8</td>\n",
       "            <td>5.9</td>\n",
       "        </tr>\n",
       "        <tr>\n",
       "            <td>Mumbai</td>\n",
       "            <td>India</td>\n",
       "            <td>Spring</td>\n",
       "            <td>28.4</td>\n",
       "            <td>16.2</td>\n",
       "        </tr>\n",
       "        <tr>\n",
       "            <td>Mumbai</td>\n",
       "            <td>India</td>\n",
       "            <td>Summer</td>\n",
       "            <td>27.9</td>\n",
       "            <td>1549.4</td>\n",
       "        </tr>\n",
       "        <tr>\n",
       "            <td>Mumbai</td>\n",
       "            <td>India</td>\n",
       "            <td>Fall</td>\n",
       "            <td>27.6</td>\n",
       "            <td>346.0</td>\n",
       "        </tr>\n",
       "    </tbody>\n",
       "</table>"
      ],
      "text/plain": [
       "[('Mumbai', 'India', 'Winter', 24.8, 5.9),\n",
       " ('Mumbai', 'India', 'Spring', 28.4, 16.2),\n",
       " ('Mumbai', 'India', 'Summer', 27.9, 1549.4),\n",
       " ('Mumbai', 'India', 'Fall', 27.6, 346.0)]"
      ]
     },
     "execution_count": 6,
     "metadata": {},
     "output_type": "execute_result"
    }
   ],
   "source": [
    "%%sql\n",
    "Select * from seasons where Country == \"India\""
   ]
  },
  {
   "cell_type": "markdown",
   "id": "bb7eb6dc",
   "metadata": {},
   "source": [
    "### Q8.d) \n",
    "All the Fall records."
   ]
  },
  {
   "cell_type": "code",
   "execution_count": 7,
   "id": "6a11b025",
   "metadata": {},
   "outputs": [
    {
     "name": "stdout",
     "output_type": "stream",
     "text": [
      " * sqlite:///ps02.db\n",
      "Done.\n"
     ]
    },
    {
     "data": {
      "text/html": [
       "<table>\n",
       "    <thead>\n",
       "        <tr>\n",
       "            <th>City</th>\n",
       "            <th>Country</th>\n",
       "            <th>Season</th>\n",
       "            <th>Temperature</th>\n",
       "            <th>Rainfall</th>\n",
       "        </tr>\n",
       "    </thead>\n",
       "    <tbody>\n",
       "        <tr>\n",
       "            <td>Mumbai</td>\n",
       "            <td>India</td>\n",
       "            <td>Fall</td>\n",
       "            <td>27.6</td>\n",
       "            <td>346.0</td>\n",
       "        </tr>\n",
       "        <tr>\n",
       "            <td>London</td>\n",
       "            <td>United Kingdom</td>\n",
       "            <td>Fall</td>\n",
       "            <td>10.4</td>\n",
       "            <td>218.5</td>\n",
       "        </tr>\n",
       "        <tr>\n",
       "            <td>Cairo</td>\n",
       "            <td>Egypt</td>\n",
       "            <td>Fall</td>\n",
       "            <td>22.2</td>\n",
       "            <td>4.5</td>\n",
       "        </tr>\n",
       "    </tbody>\n",
       "</table>"
      ],
      "text/plain": [
       "[('Mumbai', 'India', 'Fall', 27.6, 346.0),\n",
       " ('London', 'United Kingdom', 'Fall', 10.4, 218.5),\n",
       " ('Cairo', 'Egypt', 'Fall', 22.2, 4.5)]"
      ]
     },
     "execution_count": 7,
     "metadata": {},
     "output_type": "execute_result"
    }
   ],
   "source": [
    "%%sql\n",
    "Select * from seasons where Season == \"Fall\""
   ]
  },
  {
   "cell_type": "markdown",
   "id": "c8691f1f",
   "metadata": {},
   "source": [
    "### Q8.e)\n",
    "The city, country, and season for which the average rainfall is between 200 and 400 millimeters."
   ]
  },
  {
   "cell_type": "code",
   "execution_count": 8,
   "id": "e457bb6f",
   "metadata": {},
   "outputs": [
    {
     "name": "stdout",
     "output_type": "stream",
     "text": [
      " * sqlite:///ps02.db\n",
      "Done.\n"
     ]
    },
    {
     "data": {
      "text/html": [
       "<table>\n",
       "    <thead>\n",
       "        <tr>\n",
       "            <th>City</th>\n",
       "            <th>Country</th>\n",
       "            <th>Season</th>\n",
       "        </tr>\n",
       "    </thead>\n",
       "    <tbody>\n",
       "        <tr>\n",
       "            <td>Mumbai</td>\n",
       "            <td>India</td>\n",
       "            <td>Fall</td>\n",
       "        </tr>\n",
       "        <tr>\n",
       "            <td>London</td>\n",
       "            <td>United Kingdom</td>\n",
       "            <td>Winter</td>\n",
       "        </tr>\n",
       "        <tr>\n",
       "            <td>London</td>\n",
       "            <td>United Kingdom</td>\n",
       "            <td>Fall</td>\n",
       "        </tr>\n",
       "    </tbody>\n",
       "</table>"
      ],
      "text/plain": [
       "[('Mumbai', 'India', 'Fall'),\n",
       " ('London', 'United Kingdom', 'Winter'),\n",
       " ('London', 'United Kingdom', 'Fall')]"
      ]
     },
     "execution_count": 8,
     "metadata": {},
     "output_type": "execute_result"
    }
   ],
   "source": [
    "%%sql\n",
    "Select City, Country, Season from seasons where Rainfall between 200 and 400"
   ]
  },
  {
   "cell_type": "markdown",
   "id": "04cf2491",
   "metadata": {},
   "source": [
    "### Q8.f)\n",
    "The city and country for which the average Fall temperature is above 20 degrees, in increasing temperature order"
   ]
  },
  {
   "cell_type": "code",
   "execution_count": 9,
   "id": "ce0b44d4",
   "metadata": {},
   "outputs": [
    {
     "name": "stdout",
     "output_type": "stream",
     "text": [
      " * sqlite:///ps02.db\n",
      "Done.\n"
     ]
    },
    {
     "data": {
      "text/html": [
       "<table>\n",
       "    <thead>\n",
       "        <tr>\n",
       "            <th>City</th>\n",
       "            <th>Country</th>\n",
       "        </tr>\n",
       "    </thead>\n",
       "    <tbody>\n",
       "        <tr>\n",
       "            <td>Cairo</td>\n",
       "            <td>Egypt</td>\n",
       "        </tr>\n",
       "        <tr>\n",
       "            <td>Mumbai</td>\n",
       "            <td>India</td>\n",
       "        </tr>\n",
       "    </tbody>\n",
       "</table>"
      ],
      "text/plain": [
       "[('Cairo', 'Egypt'), ('Mumbai', 'India')]"
      ]
     },
     "execution_count": 9,
     "metadata": {},
     "output_type": "execute_result"
    }
   ],
   "source": [
    "%%sql\n",
    "Select City, Country from seasons where Season == 'Fall' and  Temperature > 20 order by Temperature"
   ]
  },
  {
   "cell_type": "markdown",
   "id": "f833e306",
   "metadata": {},
   "source": [
    "### Q8.g) \n",
    "The total annual rainfall for Cairo."
   ]
  },
  {
   "cell_type": "code",
   "execution_count": 10,
   "id": "2a044bf0",
   "metadata": {},
   "outputs": [
    {
     "name": "stdout",
     "output_type": "stream",
     "text": [
      " * sqlite:///ps02.db\n",
      "Done.\n"
     ]
    },
    {
     "data": {
      "text/html": [
       "<table>\n",
       "    <thead>\n",
       "        <tr>\n",
       "            <th>Sum(Rainfall)</th>\n",
       "        </tr>\n",
       "    </thead>\n",
       "    <tbody>\n",
       "        <tr>\n",
       "            <td>27.6</td>\n",
       "        </tr>\n",
       "    </tbody>\n",
       "</table>"
      ],
      "text/plain": [
       "[(27.6,)]"
      ]
     },
     "execution_count": 10,
     "metadata": {},
     "output_type": "execute_result"
    }
   ],
   "source": [
    "%%sql\n",
    "Select Sum(Rainfall) from seasons where City == \"Cairo\""
   ]
  },
  {
   "cell_type": "markdown",
   "id": "29696c19",
   "metadata": {},
   "source": [
    "### Q8.h)\n",
    "The total rainfall for each season."
   ]
  },
  {
   "cell_type": "code",
   "execution_count": 11,
   "id": "96660e02",
   "metadata": {},
   "outputs": [
    {
     "name": "stdout",
     "output_type": "stream",
     "text": [
      " * sqlite:///ps02.db\n",
      "Done.\n"
     ]
    },
    {
     "data": {
      "text/html": [
       "<table>\n",
       "    <thead>\n",
       "        <tr>\n",
       "            <th>Season</th>\n",
       "            <th>round(sum(Rainfall),2)</th>\n",
       "        </tr>\n",
       "    </thead>\n",
       "    <tbody>\n",
       "        <tr>\n",
       "            <td>Fall</td>\n",
       "            <td>569.0</td>\n",
       "        </tr>\n",
       "        <tr>\n",
       "            <td>Spring</td>\n",
       "            <td>192.3</td>\n",
       "        </tr>\n",
       "        <tr>\n",
       "            <td>Summer</td>\n",
       "            <td>1706.5</td>\n",
       "        </tr>\n",
       "        <tr>\n",
       "            <td>Winter</td>\n",
       "            <td>230.1</td>\n",
       "        </tr>\n",
       "    </tbody>\n",
       "</table>"
      ],
      "text/plain": [
       "[('Fall', 569.0), ('Spring', 192.3), ('Summer', 1706.5), ('Winter', 230.1)]"
      ]
     },
     "execution_count": 11,
     "metadata": {},
     "output_type": "execute_result"
    }
   ],
   "source": [
    "%%sql\n",
    "Select Season, round(sum(Rainfall),2) from seasons group by Season"
   ]
  },
  {
   "cell_type": "markdown",
   "id": "8fa80d95",
   "metadata": {},
   "source": [
    "# Question 9\n",
    ". Suppose list words is defined as follows:\n",
    ">>> words = ['The', 'quick', 'brown', 'fox', 'jumps', 'over', 'the', 'lazy', 'dog']\n",
    "\n",
    "Write list comprehension expressions that use list words and generate the following \n",
    "lists:\n",
    "\n",
    "a) ['THE', 'QUICK', 'BROWN', 'FOX', 'JUMPS', 'OVER', 'THE', 'LAZY', 'DOG']\n",
    "\n",
    "b) ['the', 'quick', 'brown', 'fox', 'jumps', 'over', 'the', 'lazy', 'dog']\n",
    "\n",
    "c) [3, 5, 5, 3, 5, 4, 3, 4, 3] (the list of lengths of words in list words).\n",
    "\n",
    "d) [['THE', 'the', 3], ['QUICK', 'quick', 5], ['BROWN', 'brown', 5], ['FOX', 'fox', 3], ['JUMPS', 'jumps', 5], ['OVER', 'over', 4], ['THE', 'the', 3], ['LAZY', 'lazy', 4], ['DOG', 'dog', 3]] (the list containing a list for every word of list words, where each list contains the word in uppercase and lowercase and the length of the word.)\n",
    "\n",
    "e) ['The', 'quick', 'brown', 'fox', 'jumps', 'over', 'the', 'lazy', 'dog'] (the list of words in list words containing 4 or more characters.)"
   ]
  },
  {
   "cell_type": "code",
   "execution_count": 12,
   "id": "22384560",
   "metadata": {},
   "outputs": [],
   "source": [
    "words = ['The', 'quick', 'brown', 'fox', 'jumps', 'over', 'the', 'lazy', 'dog']"
   ]
  },
  {
   "cell_type": "markdown",
   "id": "f42e41f7",
   "metadata": {},
   "source": [
    "### Q9.a )"
   ]
  },
  {
   "cell_type": "code",
   "execution_count": 13,
   "id": "89468111",
   "metadata": {},
   "outputs": [
    {
     "data": {
      "text/plain": [
       "['THE', 'QUICK', 'BROWN', 'FOX', 'JUMPS', 'OVER', 'THE', 'LAZY', 'DOG']"
      ]
     },
     "execution_count": 13,
     "metadata": {},
     "output_type": "execute_result"
    }
   ],
   "source": [
    "a = [char.upper() for char in words]\n",
    "a"
   ]
  },
  {
   "cell_type": "markdown",
   "id": "951dd832",
   "metadata": {},
   "source": [
    "### Q9.b )"
   ]
  },
  {
   "cell_type": "code",
   "execution_count": 14,
   "id": "3a20a889",
   "metadata": {},
   "outputs": [
    {
     "data": {
      "text/plain": [
       "['the', 'quick', 'brown', 'fox', 'jumps', 'over', 'the', 'lazy', 'dog']"
      ]
     },
     "execution_count": 14,
     "metadata": {},
     "output_type": "execute_result"
    }
   ],
   "source": [
    "a = [char.lower() for char in words]\n",
    "a"
   ]
  },
  {
   "cell_type": "markdown",
   "id": "8aa2569c",
   "metadata": {},
   "source": [
    "### Q9.c )"
   ]
  },
  {
   "cell_type": "code",
   "execution_count": 15,
   "id": "71c34918",
   "metadata": {},
   "outputs": [
    {
     "data": {
      "text/plain": [
       "[3, 5, 5, 3, 5, 4, 3, 4, 3]"
      ]
     },
     "execution_count": 15,
     "metadata": {},
     "output_type": "execute_result"
    }
   ],
   "source": [
    "length_list = [len(char) for char in words]\n",
    "length_list"
   ]
  },
  {
   "cell_type": "markdown",
   "id": "b5b9044c",
   "metadata": {},
   "source": [
    "### Q9.d )"
   ]
  },
  {
   "cell_type": "code",
   "execution_count": 16,
   "id": "a709d4f2",
   "metadata": {},
   "outputs": [
    {
     "data": {
      "text/plain": [
       "[['THE', 'the', 3],\n",
       " ['QUICK', 'quick', 5],\n",
       " ['BROWN', 'brown', 5],\n",
       " ['FOX', 'fox', 3],\n",
       " ['JUMPS', 'jumps', 5],\n",
       " ['OVER', 'over', 4],\n",
       " ['THE', 'the', 3],\n",
       " ['LAZY', 'lazy', 4],\n",
       " ['DOG', 'dog', 3]]"
      ]
     },
     "execution_count": 16,
     "metadata": {},
     "output_type": "execute_result"
    }
   ],
   "source": [
    "n = [[char.upper(), char.lower(), len(char)] for char in words]\n",
    "n"
   ]
  },
  {
   "cell_type": "markdown",
   "id": "57eef596",
   "metadata": {},
   "source": [
    "### Q9.e )"
   ]
  },
  {
   "cell_type": "code",
   "execution_count": 17,
   "id": "b7c7a2a2",
   "metadata": {},
   "outputs": [
    {
     "data": {
      "text/plain": [
       "['quick', 'brown', 'jumps', 'over', 'lazy']"
      ]
     },
     "execution_count": 17,
     "metadata": {},
     "output_type": "execute_result"
    }
   ],
   "source": [
    "l = [char for char in words if len(char) >= 4]\n",
    "l"
   ]
  }
 ],
 "metadata": {
  "kernelspec": {
   "display_name": "Python 3 (ipykernel)",
   "language": "python",
   "name": "python3"
  },
  "language_info": {
   "codemirror_mode": {
    "name": "ipython",
    "version": 3
   },
   "file_extension": ".py",
   "mimetype": "text/x-python",
   "name": "python",
   "nbconvert_exporter": "python",
   "pygments_lexer": "ipython3",
   "version": "3.11.5"
  }
 },
 "nbformat": 4,
 "nbformat_minor": 5
}
